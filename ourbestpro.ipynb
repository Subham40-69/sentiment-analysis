{
 "cells": [
  {
   "cell_type": "markdown",
   "metadata": {},
   "source": [
    "# *SENTIMENT ANALYSIS*"
   ]
  },
  {
   "cell_type": "markdown",
   "metadata": {},
   "source": [
    "*sentiment analysis is going analysis how happy or sad someone else with his opinions or feelings about the topic.....\n",
    "Features of dataset: comment: the text*\n",
    "                     *sentiment:sentiment respect to  comment data 1 for positive comment and 0 for negetive comment* \n",
    "\n",
    "*given the tweet  we need to predict the emotion of the tweet*"
   ]
  },
  {
   "cell_type": "code",
   "execution_count": 1,
   "metadata": {},
   "outputs": [],
   "source": [
    "import numpy as np                      # for mathematical calculation\n",
    "import pandas as pd                     #for handeling datasets\n",
    "import nltk                             # use for natural language processing \n",
    "from nltk.corpus import stopwords       #for identify the stopwords\n",
    "from sklearn.feature_extraction.text import TfidfVectorizer #convert a collection of raw documents to a matrix of TD-IdF features\n",
    "from sklearn.model_selection import train_test_split        #for spliting arrays or metrics into random train and test subsets\n",
    "from sklearn import metrics             #for checking the model accuracy"
   ]
  },
  {
   "cell_type": "markdown",
   "metadata": {},
   "source": [
    "*datasets for commenting part*"
   ]
  },
  {
   "cell_type": "code",
   "execution_count": 2,
   "metadata": {},
   "outputs": [
    {
     "name": "stdout",
     "output_type": "stream",
     "text": [
      "420\n",
      "420\n"
     ]
    }
   ],
   "source": [
    "comm = [\"then I turn on the light and the radio and enjoy my Da Vinci Code.\",\n",
    "    \"then I turn on the light and the radio and enjoy my Da Vinci Code.i love da vinci code...\",\n",
    "     \"i love da vinci code...\",\n",
    "     \"i love da vinci code...\",\n",
    "     \"TO NIGHT:: THE DA VINCI CODE AND A BEAUTIFUL MIND...\",\n",
    "     \"THE DA VINCI CODE is AN AWESOME BOOK....\",\n",
    "     \"Thing is, I enjoyed The Da Vinci Code\",\n",
    "     \"very da vinci code slash amazing race.\",\n",
    "     \"Hey I loved The Da Vinci Code!..\",\n",
    "     \"also loved the da vinci code..\",\n",
    "     \"I really enjoyed the Da Vinci Code but thought I would be disappointed in the other books & # 8230;\",\n",
    "     \"I do like Angels and Demons more then The Da Vinci Code.\",\n",
    "     \"The Da Vinci Code was a really good movie\",\n",
    "     \"yeah, da vinci code is an awesome movie i liked it pretty interesting.\",\n",
    "     \"I really like The Da Vinci Code.\",\n",
    "     \"Da Vinci Code is amazing.\",\n",
    "     \"The Da Vinci Code was awesome...\",\n",
    "     \"The Da Vinci Code's backtory on various religious historical figures and such were interesting at times, but I'm more of scifi girl at heart.\",\n",
    "     \"Book ( s ): I love The Da Vinci Code..\",\n",
    "     \"And then we went to see The Da Vinci Code, which was CRAZY awesome and Ian McKellen is my old, gay husband.\",\n",
    "     \"I love the da vinci code...\",\n",
    "     \"Well I did enjoy Bridget Jones and I loved the Da Vinci Code so this idea appeals to me and it takes Chick Lit into one of the few arenas that the genre has yet to explore...\",\n",
    "     \"I just read Da Vinci Code ( which was AWESOME by the way )  .\",\n",
    "     \"I just read Da Vinci Code ( which was AWESOME by the way )  .\",\n",
    "     \"I loved the Da Vinci Code!\",\n",
    "     \"I love reading The Da Vinci Code!!!!\",\n",
    "     \"I'm telling you, the Da Vinci Code is an AWESOME book!\",\n",
    "     \"Then again, my opinion may be a bit biased because I loved the Da Vinci Code soundtrack. ).\",\n",
    "     \"And I was quite pleased with my own open-mindedness, after having loved The Da Vinci Code so much, that I was able to get equal enjoyment seeing how the other side reads.\",\n",
    "     \"I love the Da Vinci Code.\",\n",
    "     \"Da Vinci code is awesome!\",\n",
    "     \"The Da Vinci Code is awesome.\",\n",
    "     \"The Da Vinci Code is SUCH an awesome book!\",\n",
    "     \"I LOVE THE DA VINCI CODE...\",\n",
    "     \"I loved The Da Vinci Code.\",\n",
    "     \"oh so beautiful Da Vinci Code...\",\n",
    "     \"i loved the da vinci code.\",\n",
    "     \"The Da Vinci Code is an awesome book.\",\n",
    "     \"Da vinci code is an awesome book.\",\n",
    "     \"I miss ripping acoustic music and the Da Vinci Code...\",\n",
    "     \"Personally, I neither hate nor love the Da Vinci Code.\",\n",
    "     \"looks amazingly fun and possibly a bit cold... [ don't tell anyone ] but da vinci code is an awesome book.\",\n",
    "     \"Da Vinci Code is of course a awesome book, but you will figure that out on page 286.\",\n",
    "     \"I love The Da Vinci Code!\",\n",
    "     \"i LOVED the Da Vinci Code.\",\n",
    "     \"But seriously, the Da Vinci Code is an awesome book.\",\n",
    "     \"da vinci code is awesome.\",\n",
    "     \"I love The Da Vinci Code.\",\n",
    "     \"The Da Vinci Code was fucking awesome!..\",\n",
    "     \"The Da Vinci Code was awesome.\",\n",
    "     \"Da Vinci Code was awesome, and sounds more probable to me than half the crap Fr.\",\n",
    "     \"I loved the Da Vinci Code and the like.\",\n",
    "     \"Da Vinci Code-that was awesome!..\",\n",
    "     \"I loved the Da Vinci code, but it raises a lot of theological questions most of which are very absurd...\",\n",
    "     \"The Da Vinci Code is an awesome book.\",\n",
    "     \"Yeah the Da Vinci code is awesome....\",\n",
    "     \" The Da Vinci Code is awesome though.\",\n",
    "     \"i LOVE the da vinci code!\",\n",
    "     \"The Da Vinci Code is an awesome book!!!\",\n",
    "     \"Aarons mom and Aaron knew how much I loved the Da Vinci Code, so we took the tour inside.\",\n",
    "       \"da vinci code is awesome!\",\n",
    "       \"I loved the da vinci code...\",\n",
    "       \"the Da Vinci Code is awesome..\",\n",
    "       \"I'd love to go see Da Vinci Code but probably not next week.\",\n",
    "       \"The Da Vinci Code was awesome.\",\n",
    "       \"im sick of books right now, but i must say, da vinci code was awesome..\",\n",
    "       \"finished reading the da vinci code, which is an awesome book.\",\n",
    "       \"that and the da vinci code is awesome so far.\",\n",
    "       \"I LOVE THE DA VINCI CODE!!!!... < < < < < 3333...\",\n",
    "       \"And Da Vinci Code is awesome.\",\n",
    "       \"The Da Vinci Code is awesome...\",\n",
    "       \"Oh oh oh and I loved The Da Vinci Code!\",\n",
    "       \"I love the Da Vinci code...\",\n",
    "       \"The Da Vinci Code is awesome.\",\n",
    "       \"and I love Da Vinci Code-illustrated edition is the only way to go!:)..\",\n",
    "       \"I loved the Da Vinci code, and I can't wait for the movie.\",\n",
    "       \"i loved da vinci code recently......\",\n",
    "       \"Love the Da Vinci Code!(\",\n",
    "       \"to their right ALSO read and LOVED the Da Vinci code.\",\n",
    "       \"I * LOVED * Da Vinci code.I * LOVED * Da Vinci code.\",\n",
    "       \"and i love reading da vinci code.....\",\n",
    "       \"and i love Da Vinci Code too..\",\n",
    "       \"and i love Da Vinci Code too..\",\n",
    "       \"Da Vinci Code looks SO awesome...\",\n",
    "       \"I finished The Da Vinci Code that was an awesome book!\",\n",
    "       \"The Da Vinci Code was pretty awesome, but I liked Angels and Demons...\",\n",
    "       \"I loved reading Da Vinci Code, can't wait for the movie to come out!..\",\n",
    "       \"I love the Da Vinci Code.\",\n",
    "       \"The Da Vinci Code really is an awesome book and you should all go get it.\",\n",
    "       \" totally love the Da Vinci Code and i CA N'T wait until the movie!\",\n",
    "       \"Personally I loved The Da Vinci Code, its a great thriller.\",\n",
    "       \"I love the Da Vinci Code.....\",\n",
    "       \"and the da vinci code is an awesome book!\",\n",
    "       \"da vinci code is an awesome book..\",\n",
    "       \"The Da Vinci Code is AWESOME!.\"\n",
    "       \"I loved the da vinci code.\",\n",
    "       \"I loved the da Vinci Code-very interesting to think about things from a different angle.\",\n",
    "       \"Da Vinci Code is a friggin awesome book.\",\n",
    "       \"And the Da Vinci code is AMAZING, 30 pages left to go.\",\n",
    "       \"outta all three i just loved the da vinci code.\",\n",
    "       \"oh I love the book The Da VInci Code!\"\n",
    "       \"da vinci code was a terrible movie.\",\n",
    "       \"Then again, the Da Vinci code is super shitty movie, and it made like 700 million.\",\n",
    "       \"The Da Vinci Code comes out tomorrow, which sucks.\",\n",
    "       \"i thought the da vinci code movie was really boring.\",\n",
    "       \"God, Yahoo Games has this truly-awful looking Da Vinci Code-themed skin on it's chessboard right now.\",\n",
    "       \"Da Vinci Code does suck.\",\n",
    "       \"And better...-We all know Da Vinci code is bogus and inaccurate.\",\n",
    "       \"Last time, Da Vinci code is also a bit disappointing to me, because many things written in the book is never mentioned in movie.\",\n",
    "       \"And better...-We all know Da Vinci code is bogus and inaccurate.\",\n",
    "       \"And better..-We all know Da Vinci code is bogus and inaccurate.\",\n",
    "       \"And better..-We all know Da Vinci code is bogus and inaccurate.\",\n",
    "       \"If Jesus is fabricated a la the Da Vinci Code then Christianity is worthless...\",\n",
    "       \"I think this bolsters my arguments that both England and the Da Vinci Code sucks...\",\n",
    "       \"And better..-We all know Da Vinci code is bogus and inaccurate.\",\n",
    "       \"I really hate The Da Vinci Code.\",\n",
    "       \"The more you say The Da Vinci Code is evil, the more people will read it.\",\n",
    "       \"da vinci code sucked too long and too slow.....\",\n",
    "       \"Da Vinci Code sucked, as expected.\",\n",
    "       \"not sure if i already threw this at you but I hate the Da Vinci Code.\",\n",
    "       \"This is why I hate the Da Vinci Code: because it takes nothing but a fucking pop culture phenomenon to get people to question things.\",\n",
    "       \"Da Vinci Code really did suck and congrats on beating Jay it must of been like that time at Rickards when we beat them in the finals\",\n",
    "       \"The Da Vinci Code sucks.\",\n",
    "       \"and also, The Da Vinci Code is poorly written and boring..\",\n",
    "       \"I hated The Da Vinci Code.\",\n",
    "       \"I hate the Da Vinci Code, but I may see the movie for Audrey Tautou...I know Da Vinci Code is going to suckI know Da Vinci Code is going to suck.\",\n",
    "       \"I know Da Vinci Code is going to suck.\",\n",
    "       \"The Da Vinci Code sucks..\",\n",
    "       \"I also think The Da Vinci Code sucked balls and it's the worst piece of shit I've ever read.\",\n",
    "       \"RACHEL you could of told me your nans a libarian before i said i hated'The da vinci code '!!\",\n",
    "       \"The Da Vinci code sucks and is also a page turner...\",\n",
    "       \"then was the da vinci code, which sucked really bad.\",\n",
    "       \"but whatever it is,. i really hate the da vinci code..\",\n",
    "       \"I hated The Da Vinci Code.\",\n",
    "       \"I hated The Da Vinci Code.\",\n",
    "       \"the da vinci code sucks btw..\",\n",
    "       \"I hate the Da Vinci Code..\",\n",
    "       \"i fucking hated the da vinci code.\",\n",
    "       \"Had an interesting conversation with one of the professors I work for about how Da Vinci Code sucks...\",\n",
    "       \"ERM da vinci code and it sucked...\",\n",
    "       \"I overslept though so jenn and i didn't get to see the da vinci code which sucked and now i have no money so yeah maybe later.\",\n",
    "       \"DA VINCI CODE-SUCKED BALLZ.\",\n",
    "       \"Da Vinci Code SUCKED ASS!!!\",\n",
    "       \"how much the da vinci code sucks...\",\n",
    "       \"Went to see The Da Vinci Code, which sucked even worse than the book...\",\n",
    "       \"Da Vinci Code apparently sucks even more ass on film.\",\n",
    "       \"who else thought the da vinci code kinda sucked...\",\n",
    "       \"I think i started to hate Da Vinci Code just because it has gathered the lamest people in cinema.\",\n",
    "       \"the da vinci code sucked.\",\n",
    "       \"oh, and i hated  the novel....\",\n",
    "       \"Da Vinci Code sucked.\",\n",
    "       \"in other news, the da vinci code sucks a lama's balls.....\",\n",
    "       \"Still haven't seen the Da Vinci Code, which kinda sucks..\",\n",
    "       \"The Da Vinci Code sucked.\",\n",
    "       \"BECAUSE DA VINCI CODE SUCKED!!\",\n",
    "       \"3 Though I heard Da Vinci Code sucked.\",\n",
    "       \"I officially hate the Da Vinci Code, the end.\",\n",
    "       \"ya da vinci code really sucked....\",\n",
    "       \"I heard The da Vinci Code sucked.\",\n",
    "       \"We saw Da Vinci Code, which sucked.\",\n",
    "       \"we saw the da vinci code, which kinda sucked in an okay way.\",\n",
    "       \"the da vinci code sucked!\",\n",
    "       \"I hated Da Vinci Code..\",\n",
    "       \"The Da Vinci Code sucks, BTW!\",\n",
    "       \"I hate the Da Vinci Code.\",\n",
    "       \"I did not get to see Da Vinci Code which sucked a little bit, but hopefully that may happen during the coming week sometime..\",\n",
    "       \"They were holding signs saying I love Jesus Christ, but I hate the Da Vinci Code.\",\n",
    "       \"Because of this project, I fucking hate the Da Vinci Code.\",\n",
    "       \"THE DA VINCI CODE SUCKS.\",\n",
    "       \"i hated the da vinci code, the movie witha passion\",\n",
    "       \"The Da Vinci Code sucked.\",\n",
    "       \"the Da Vinci Code sucks.\",\n",
    "       \"I hated The Da Vinci Code...\",\n",
    "       \"Da Vinci Code sucks\",\n",
    "       \"did i mention the da vinci code sucked big donkey balls?..\",\n",
    "       \"the da vinci code sucked big donkey balls...\",\n",
    "       \"The Da Vinci Code [ movie ] sucked!..\",\n",
    "       \"to see the da vinci code, which totally sucked balls.\",\n",
    "       \"The Da Vinci Code's supposed to suck..\",\n",
    "       \"da vinci code sucks.\",\n",
    "       \"I'll let y'all know if The Da Vinci Code sucks or not...\",\n",
    "       \"Critics are saying that The Da Vinci Code, due in theaters this weekend, stinks.\",\n",
    "       \"Now, I am the first person to say that The Da Vinci Code sucks, but hello, it ’ s a novel!\",\n",
    "       \"I really hate the Da Vinci Code..\",\n",
    "       \"I really hate the Da Vinci Code...\",\n",
    "       \"It's been on a couple of times already, but cos I think the da Vinci Code sucks I never took the effort of watching it.(\",\n",
    "       \"The Da vinci Code is so SUCK!!!!!!!\",\n",
    "       \"The Da Vinci Code sucked big time.\",\n",
    "       \"mang i could of told you the da vinci code suck!\",\n",
    "       \" Man i hated the Da Vinci Code.\",\n",
    "       \"After school, I went with Latin Club to see the Da Vinci code, which sucked...\",\n",
    "       \"the da vinci code sucks majorly....\",\n",
    "       \"da vinci code = sucks major ass...\",\n",
    "       \"I hate The Da Vinci Code.\",\n",
    "       \"Da Vinci Code kinda sucks second time around..\",\n",
    "       \"Da Vinci Code sucked, but talking through it definately didnt suck.\",\n",
    "       \"and da vinci code sucks!..\",\n",
    "       \"i heard that the da vinci code sucks especially compared to the book.\",\n",
    "       \"The Da Vinci Code sucks.\",\n",
    "       \"anyhow, the da vinci code sucks lah.\",\n",
    "       \"The Da Vinci Code sucked.\",\n",
    "       \"Rofls, but yeah I hated the Da Vinci Code.\",\n",
    "       \"I heard Da Vinci Code sucked pretty hard, which is too bad, because I like Ron Howard.\",\n",
    "       \"i use google for my music urls and the da vinci code sucked!\",\n",
    "       \"da vinci code the movie sucked.\",\n",
    "       \"im kinda sad that da vinci code sucked(\",\n",
    "       \"Does The Da Vinci Code suck?...\",\n",
    "       \"There will be a lot of fun songs, one will be a sing along about how much the Da Vinci Code SUCKS(\",\n",
    "       \"I've seen X-Men three times and the Da Vinci Code royally sucked...\",\n",
    "       \"da vinci code sucks ass.\",\n",
    "       \"The Da Vinci Code sucked like a Hoover.\",\n",
    "       \"And by the way, Da Vinci Code movie sucks ass..\",\n",
    "       \"da vinci code sucked da vinci code sucks da vinci code sucks!.\",\n",
    "       \"da vinci code will suck!\",\n",
    "       \"da vinci code sucked, IMO.\",\n",
    "       \"I wasn't even in the mood to shop yesterday and also Da Vinci Code sucked ASS.\",\n",
    "       \"Da Vinci Code sucked but the story and ideas were very interesting...\",\n",
    "       \"Also, Da Vinci Code is SUCK!!!!!!!!\",\n",
    "       \"Well, I'm not gonna lie, The Da Vinci Code SUCKED!\",\n",
    "       \"DA VINCI CODE SUCKS ASS.\",\n",
    "       \"Da Vinci code sucks ass as a movie.\",\n",
    "       \"The Da Vinci Code sucked ass!!!!\",\n",
    "       \"Brokeback mountain was beautiful...\",\n",
    "     \"Anyway, thats why I love Brokeback Mountain.\",\n",
    "     \"I either LOVE Brokeback Mountain or think it's great that homosexuality is becoming more acceptable!:\",\n",
    "     \"dudeee i LOVED brokeback mountain!!!!\",\n",
    "     \"man i loved brokeback mountain!\",\n",
    "     \"Brokeback Mountain was an AWESOME movie.\",\n",
    "     \"Brokeback Mountain was so awesome.\",\n",
    "     \"He's like,'YEAH I GOT ACNE AND I LOVE BROKEBACK MOUNTAIN '..\",\n",
    "     \"I love Brokeback Mountain....\",\n",
    "     \"I love Brokeback Mountain.\",\n",
    "     \"Brokeback mountain was beautiful...\",\n",
    "     \"Anyway, thats why I love Brokeback Mountain.\",\n",
    "     \"I either LOVE Brokeback Mountain or think it's great that homosexuality is becoming more acceptable!:\",\n",
    "     \"dudeee i LOVED brokeback mountain!!!!\",\n",
    "     \"man i loved brokeback mountain!\",\n",
    "     \"Brokeback Mountain was an AWESOME movie.\",\n",
    "     \"Brokeback Mountain was so awesome.\",\n",
    "     \"He's like,'YEAH I GOT ACNE AND I LOVE BROKEBACK MOUNTAIN '..\",\n",
    "     \"I love Brokeback Mountain....\",\n",
    "     \"I love Brokeback Mountain.\",\n",
    "     \"Brokeback mountain was beautiful...\",\n",
    "     \"Anyway, thats why I love Brokeback Mountain.\",\n",
    "     \"I either LOVE Brokeback Mountain or think it's great that homosexuality is becoming more acceptable!:\",\n",
    "     \"dudeee i LOVED brokeback mountain!!!!\",\n",
    "     \"man i loved brokeback mountain!\",\n",
    "     \"Brokeback Mountain was an AWESOME movie.\",\n",
    "     \"Brokeback Mountain was so awesome.\",\n",
    "     \"He's like,'YEAH I GOT ACNE AND I LOVE BROKEBACK MOUNTAIN '..\",\n",
    "     \"I love Brokeback Mountain....\",\n",
    "     \"I love Brokeback Mountain.\",\n",
    "     \"Brokeback mountain was beautiful...\",\n",
    "     \"Anyway, thats why I love Brokeback Mountain.\",\n",
    "     \"I either LOVE Brokeback Mountain or think it's great that homosexuality is becoming more acceptable!:\",\n",
    "     \"dudeee i LOVED brokeback mountain!!!!\",\n",
    "     \"man i loved brokeback mountain!\",\n",
    "     \"Brokeback Mountain was an AWESOME movie.\",\n",
    "     \"Brokeback Mountain was so awesome.\",\n",
    "     \"He's like,'YEAH I GOT ACNE AND I LOVE BROKEBACK MOUNTAIN '..\",\n",
    "     \"I love Brokeback Mountain....\",\n",
    "     \"I love Brokeback Mountain.\",\n",
    "     \"Brokeback mountain was beautiful...\",\n",
    "     \"Anyway, thats why I love Brokeback Mountain.\",\n",
    "     \"I either LOVE Brokeback Mountain or think it's great that homosexuality is becoming more acceptable!:\",\n",
    "     \"dudeee i LOVED brokeback mountain!!!!\",\n",
    "     \"man i loved brokeback mountain!\",\n",
    "     \"Brokeback Mountain was an AWESOME movie.\",\n",
    "     \"Brokeback Mountain was so awesome.\",\n",
    "     \"He's like,'YEAH I GOT ACNE AND I LOVE BROKEBACK MOUNTAIN '..\",\n",
    "     \"I love Brokeback Mountain....\",\n",
    "     \"I love Brokeback Mountain.\",\n",
    "     \"Brokeback mountain was beautiful...\",\n",
    "     \"Anyway, thats why I love Brokeback Mountain.\",\n",
    "     \"I either LOVE Brokeback Mountain or think it's great that homosexuality is becoming more acceptable!:\",\n",
    "     \"dudeee i LOVED brokeback mountain!!!!\",\n",
    "     \"man i loved brokeback mountain!\",\n",
    "     \"Brokeback Mountain was an AWESOME movie.\",\n",
    "     \"Brokeback Mountain was so awesome.\",\n",
    "     \"He's like,'YEAH I GOT ACNE AND I LOVE BROKEBACK MOUNTAIN '..\",\n",
    "     \"I love Brokeback Mountain....\",\n",
    "     \"I love Brokeback Mountain.\",\n",
    "     \"Brokeback mountain was beautiful...\",\n",
    "     \"Anyway, thats why I love Brokeback Mountain.\",\n",
    "     \"I either LOVE Brokeback Mountain or think it's great that homosexuality is becoming more acceptable!:\",\n",
    "     \"dudeee i LOVED brokeback mountain!!!!\",\n",
    "     \"man i loved brokeback mountain!\",\n",
    "     \"Brokeback Mountain was an AWESOME movie.\",\n",
    "     \"Brokeback Mountain was so awesome.\",\n",
    "     \"Brokeback Mountain was so awesome.\",\n",
    "     \"He's like,'YEAH I GOT ACNE AND I LOVE BROKEBACK MOUNTAIN '..\",\n",
    "     \"I love Brokeback Mountain....\",\n",
    "     \"I love Brokeback Mountain.\",\n",
    "     \"Brokeback mountain was beautiful...\",\n",
    "     \"Anyway, thats why I love Brokeback Mountain.\",\n",
    "     \"I either LOVE Brokeback Mountain or think it's great that homosexuality is becoming more acceptable!:\",\n",
    "     \"dudeee i LOVED brokeback mountain!!!!\",\n",
    "     \"man i loved brokeback mountain!\",\n",
    "     \"Brokeback Mountain was an AWESOME movie.\",\n",
    "     \"Brokeback Mountain was so awesome.\",\n",
    "     \"He's like,'YEAH I GOT ACNE AND I LOVE BROKEBACK MOUNTAIN '..\",\n",
    "     \"I love Brokeback Mountain....\",\n",
    "     \"I love Brokeback Mountain.\",\n",
    "     \"Brokeback mountain was beautiful...\",\n",
    "     \"Anyway, thats why I love Brokeback Mountain.\",\n",
    "     \"I either LOVE Brokeback Mountain or think it's great that homosexuality is becoming more acceptable!:\",\n",
    "     \"dudeee i LOVED brokeback mountain!!!!\",\n",
    "     \"man i loved brokeback mountain!\",\n",
    "     \"Brokeback Mountain was an AWESOME movie.\",\n",
    "     \"Brokeback Mountain was so awesome.\",\n",
    "     \"He's like,'YEAH I GOT ACNE AND I LOVE BROKEBACK MOUNTAIN '..\",\n",
    "     \"I love Brokeback Mountain....\",\n",
    "     \"I love Brokeback Mountain.\",\n",
    "     \"Brokeback mountain was beautiful...\",\n",
    "     \"Anyway, thats why I love Brokeback Mountain.\",\n",
    "     \"I either LOVE Brokeback Mountain or think it's great that homosexuality is becoming more acceptable!:\",\n",
    "     \"dudeee i LOVED brokeback mountain!!!!\",\n",
    "     \"man i loved brokeback mountain!\",\n",
    "     \"Brokeback Mountain was an AWESOME movie.\",\n",
    "     \"Brokeback Mountain was so awesome.\",\n",
    "     \"He's like,'YEAH I GOT ACNE AND I LOVE BROKEBACK MOUNTAIN '..\",\n",
    "     \"I love Brokeback Mountain....\",\n",
    "     \"I love Brokeback Mountain.\",\n",
    "     \"Brokeback mountain was beautiful...\",\n",
    "     \"Anyway, thats why I love Brokeback Mountain.\",\n",
    "     \"I either LOVE Brokeback Mountain or think it's great that homosexuality is becoming more acceptable!:\",\n",
    "     \"dudeee i LOVED brokeback mountain!!!!\",\n",
    "     \"man i loved brokeback mountain!\",\n",
    "     \"Anyway, thats why I love ' Brokeback Mountain.\",\n",
    "     \"I either LOVE Brokeback Mountain or think it's great that homosexuality is becoming more acceptable!:\",\n",
    "     \"dudeee i LOVED brokeback mountain!!!!\",\n",
    "     \"Anyway, thats why I love 'Brokeback Mountain.\",\n",
    "     \"He's like,'YEAH I GOT ACNE AND I LOVE BROKEBACK MOUNTAIN '..\",\n",
    "     \"Brokeback Mountain is packed with beautiful sceneries and such.\",\n",
    "     \"I love Brokeback Mountain and I'm so dissapointed and surprised that it did not win the best picture and best actor..\",\n",
    "     \"I loved Brokeback Mountain, though I think you're right about its being acceptable in mainstream culture because it doesn't challenge that culture's heteronormativity.\",\n",
    "     \"Don't get me wrong, I love brokeback mountain, but I think it has more to do that only white people can talk about racism and wins an oscar.\",\n",
    "     \"Brokeback Mountain is beautiful(\",\n",
    "     \"Brokeback Mountain is bound to be awesome...\",\n",
    "     \"I think I may just be bitter because I absolutely loved Brokeback Mountain and when you say you liked some other movie(\",\n",
    "     \"Brokeback Mountain-This movie is beautiful start to finish.\"\n",
    "     \"Well, Brokeback Mountain was pretty awesome too, but this movie......\",\n",
    "     \"Beautiful random thoughts on Brokeback Mountain\",\n",
    "     \"Oh, and Brokeback Mountain was a terrible movie.\",\n",
    "     \"Ok brokeback mountain is such a horrible movie.\",\n",
    "     \"As I sit here, watching the MTV Movie Awards, I am reminded of how much I despised the movie Brokeback Mountain.\",\n",
    "     \"So Brokeback Mountain was really depressing.\",\n",
    "     \"Brokeback Mountain was boring.\",\n",
    "     \"Oh, and Brokeback Mountain is a TERRIBLE movie...\",\n",
    "     \"My dad's being stupid about brokeback mountain...\",\n",
    "     \", she helped me bobbypin my insanely cool hat to my head, and she laughed at my stupid brokeback mountain cowboy jokes..\",\n",
    "     \"Then snuck into Brokeback Mountain, which is the most depressing movie I have ever seen..\",\n",
    "     \"Brokeback Mountain is fucking horrible..\",\n",
    "     \"Oh, and Brokeback Mountain was a terrible movie.\",\n",
    "     \"Ok brokeback mountain is such a horrible movie.\",\n",
    "     \"As I sit here, watching the MTV Movie Awards, I am reminded of how much I despised the movie Brokeback Mountain.\",\n",
    "     \"So Brokeback Mountain was really depressing.\",\n",
    "     \"Brokeback Mountain was boring.\",\n",
    "     \"Oh, and Brokeback Mountain is a TERRIBLE movie...\",\n",
    "     \"My dad's being stupid about brokeback mountain...\",\n",
    "     \", she helped me bobbypin my insanely cool hat to my head, and she laughed at my stupid brokeback mountain cowboy jokes..\",\n",
    "     \"Then snuck into Brokeback Mountain, which is the most depressing movie I have ever seen..\",\n",
    "     \"Brokeback Mountain is fucking horrible..\",\n",
    "     \"Oh, and Brokeback Mountain was a terrible movie.\",\n",
    "     \"Ok brokeback mountain is such a horrible movie.\",\n",
    "     \"As I sit here, watching the MTV Movie Awards, I am reminded of how much I despised the movie Brokeback Mountain.\",\n",
    "     \"So Brokeback Mountain was really depressing.\",\n",
    "     \"Brokeback Mountain was boring.\",\n",
    "     \"Oh, and Brokeback Mountain is a TERRIBLE movie...\",\n",
    "     \"My dad's being stupid about brokeback mountain...\",\n",
    "     \", she helped me bobbypin my insanely cool hat to my head, and she laughed at my stupid brokeback mountain cowboy jokes..\",\n",
    "     \"Then snuck into Brokeback Mountain, which is the most depressing movie I have ever seen..\",\n",
    "     \"Brokeback Mountain is fucking horrible..\",\n",
    "     \"Oh, and Brokeback Mountain was a terrible movie.\",\n",
    "     \"Ok brokeback mountain is such a horrible movie.\",\n",
    "     \"As I sit here, watching the MTV Movie Awards, I am reminded of how much I despised the movie Brokeback Mountain.\",\n",
    "     \"So Brokeback Mountain was really depressing.\",\n",
    "     \"Brokeback Mountain was boring.\",\n",
    "     \"Oh, and Brokeback Mountain is a TERRIBLE movie...\",\n",
    "     \"My dad's being stupid about brokeback mountain...\",\n",
    "     \", she helped me bobbypin my insanely cool hat to my head, and she laughed at my stupid brokeback mountain cowboy jokes..\",\n",
    "     \"Then snuck into Brokeback Mountain, which is the most depressing movie I have ever seen..\",\n",
    "     \"Brokeback Mountain is fucking horrible..\",\n",
    "     \"Oh, and Brokeback Mountain was a terrible movie.\",\n",
    "     \"Ok brokeback mountain is such a horrible movie.\",\n",
    "     \"As I sit here, watching the MTV Movie Awards, I am reminded of how much I despised the movie Brokeback Mountain.\",\n",
    "     \"So Brokeback Mountain was really depressing.\",\n",
    "     \"Brokeback Mountain was boring.\",\n",
    "     \"Oh, and Brokeback Mountain is a TERRIBLE movie...\",\n",
    "     \"My dad's being stupid about brokeback mountain...\",\n",
    "     \", she helped me bobbypin my insanely cool hat to my head, and she laughed at my stupid brokeback mountain cowboy jokes..\",\n",
    "     \"Then snuck into Brokeback Mountain, which is the most depressing movie I have ever seen..\",\n",
    "     \"Brokeback Mountain is fucking horrible..\",\n",
    "     \"Oh, and Brokeback Mountain was a terrible movie.\",\n",
    "     \"Ok brokeback mountain is such a horrible movie.\",\n",
    "     \"As I sit here, watching the MTV Movie Awards, I am reminded of how much I despised the movie Brokeback Mountain.\",\n",
    "     \"So Brokeback Mountain was really depressing.\",\n",
    "     \"Brokeback Mountain was boring.\",\n",
    "     \"Oh, and Brokeback Mountain is a TERRIBLE movie...\",\n",
    "     \"My dad's being stupid about brokeback mountain...\",\n",
    "     \"My dad's being stupid about brokeback mountain...\",\n",
    "     \"Then snuck into Brokeback Mountain, which is the most depressing movie I have ever seen..\",\n",
    "     \"Brokeback Mountain is fucking horrible..\",\n",
    "     \"Oh, and Brokeback Mountain was a terrible movie.\",\n",
    "     \"Ok brokeback mountain is such a horrible movie.\",\n",
    "     \"As I sit here, watching the MTV Movie Awards, I am reminded of how much I despised the movie Brokeback Mountain.\",\n",
    "     \"As I sit here, watching the MTV Movie Awards, I am reminded of how much I despised the movie Brokeback Mountain.\",\n",
    "     \"So Brokeback Mountain was really depressing.\",\n",
    "     \"Brokeback Mountain was boring.\",\n",
    "     \"Oh, and Brokeback Mountain is a TERRIBLE movie...\",\n",
    "     \"My dad's being stupid about brokeback mountain...\",\n",
    "     \", she helped me bobbypin my insanely cool hat to my head, and she laughed at my stupid brokeback mountain cowboy jokes..\",\n",
    "     \"As I sit here, watching the MTV Movie Awards, I am reminded of how much I despised the movie Brokeback Mountain.\",\n",
    "     \"Ok brokeback mountain is such a horrible movie.\",\n",
    "     \"Brokeback Mountain was boring.\",\n",
    "     \"Brokeback Mountain is fucking horrible..\",\n",
    "     \"Then snuck into Brokeback Mountain, which is the most depressing movie I have ever seen..\",\n",
    "     \"My dad's being stupid about brokeback mountain...\",\n",
    "     \", she helped me bobbypin my insanely cool hat to my head, and she laughed at my stupid brokeback mountain cowboy jokes..\",\n",
    "     \"So Brokeback Mountain was really depressing.\",\n",
    "     \"Oh, and Brokeback Mountain is a TERRIBLE movie...y dad's being stupid about brokeback mountain...\",\n",
    "     \"My dad's being stupid about brokeback mountain...\",\n",
    "     \"So Brokeback Mountain was really depressing.\"]\n",
    "print(len(comm))\n",
    "\n",
    "#list for sentiments(1 for positive & 0 for negetive) \n",
    "\n",
    "label = [1,1,1,1,1,1,1,1,1,1,1,1,1,1,1,1,1,1,1,1,1,1,1,1,1,1,1,1,1,1,1,1,1,1,1,1,1,1,1,1,1,1,1,1,1,1,1,1,1,1,1,1,1,1,1,1,1,1,1,1,1,1,1,1,1,1,1,1,1,1,1,1,1,1,1,1,1,1,1,1,1,1,1,1,1,1,1,1,1,1,1,1,1,1,1,1,1,1,1,1,\n",
    "         0,0,0,0,0,0,0,0,0,0,0,0,0,0,0,0,0,0,0,0,0,0,0,0,0,0,0,0,0,0,0,0,0,0,0,0,0,0,0,0,0,0,0,0,0,0,0,0,0,0,0,0,0,0,0,0,0,0,0,0,0,0,0,0,0,0,0,0,0,0,0,0,0,0,0,0,0,0,0,0,0,0,0,0,0,0,0,0,0,0,0,0,0,0,0,0,0,0,0,0,0,0,0,0,0,0,0,0,0,0,0,0,0,0,0,0,0,0,0,0,\n",
    "         1,1,1,1,1,1,1,1,1,1,1,1,1,1,1,1,1,1,1,1,1,1,1,1,1,1,1,1,1,1,1,1,1,1,1,1,1,1,1,1,1,1,1,1,1,1,1,1,1,1,1,1,1,1,1,1,1,1,1,1,1,1,1,1,1,1,1,1,1,1,1,1,1,1,1,1,1,1,1,1,1,1,1,1,1,1,1,1,1,1,1,1,1,1,1,1,1,1,1,1,1,1,1,1,1,1,1,1,1,1,1,1,1,1,1,1,1,1,1,1,\n",
    "         0,0,0,0,0,0,0,0,0,0,0,0,0,0,0,0,0,0,0,0,0,0,0,0,0,0,0,0,0,0,0,0,0,0,0,0,0,0,0,0,0,0,0,0,0,0,0,0,0,0,0,0,0,0,0,0,0,0,0,0,0,0,0,0,0,0,0,0,0,0,0,0,0,0,0,0,0,0,0,0]\n",
    "\n",
    "print(len(label))"
   ]
  },
  {
   "cell_type": "markdown",
   "metadata": {},
   "source": [
    "Converting the data into DataFrame using 'pandas' library"
   ]
  },
  {
   "cell_type": "code",
   "execution_count": 3,
   "metadata": {},
   "outputs": [],
   "source": [
    "data = {\"comments\" : comm,\"sentiment\" : label}\n",
    "df = pd.DataFrame(data)"
   ]
  },
  {
   "cell_type": "code",
   "execution_count": 4,
   "metadata": {},
   "outputs": [
    {
     "data": {
      "text/html": [
       "<div>\n",
       "<style scoped>\n",
       "    .dataframe tbody tr th:only-of-type {\n",
       "        vertical-align: middle;\n",
       "    }\n",
       "\n",
       "    .dataframe tbody tr th {\n",
       "        vertical-align: top;\n",
       "    }\n",
       "\n",
       "    .dataframe thead th {\n",
       "        text-align: right;\n",
       "    }\n",
       "</style>\n",
       "<table border=\"1\" class=\"dataframe\">\n",
       "  <thead>\n",
       "    <tr style=\"text-align: right;\">\n",
       "      <th></th>\n",
       "      <th>Unnamed: 0</th>\n",
       "      <th>comments</th>\n",
       "      <th>sentiment</th>\n",
       "    </tr>\n",
       "  </thead>\n",
       "  <tbody>\n",
       "    <tr>\n",
       "      <th>0</th>\n",
       "      <td>0</td>\n",
       "      <td>then I turn on the light and the radio and enj...</td>\n",
       "      <td>1</td>\n",
       "    </tr>\n",
       "    <tr>\n",
       "      <th>1</th>\n",
       "      <td>1</td>\n",
       "      <td>then I turn on the light and the radio and enj...</td>\n",
       "      <td>1</td>\n",
       "    </tr>\n",
       "    <tr>\n",
       "      <th>2</th>\n",
       "      <td>2</td>\n",
       "      <td>i love da vinci code...</td>\n",
       "      <td>1</td>\n",
       "    </tr>\n",
       "    <tr>\n",
       "      <th>3</th>\n",
       "      <td>3</td>\n",
       "      <td>i love da vinci code...</td>\n",
       "      <td>1</td>\n",
       "    </tr>\n",
       "    <tr>\n",
       "      <th>4</th>\n",
       "      <td>4</td>\n",
       "      <td>TO NIGHT:: THE DA VINCI CODE AND A BEAUTIFUL M...</td>\n",
       "      <td>1</td>\n",
       "    </tr>\n",
       "  </tbody>\n",
       "</table>\n",
       "</div>"
      ],
      "text/plain": [
       "   Unnamed: 0                                           comments  sentiment\n",
       "0           0  then I turn on the light and the radio and enj...          1\n",
       "1           1  then I turn on the light and the radio and enj...          1\n",
       "2           2                            i love da vinci code...          1\n",
       "3           3                            i love da vinci code...          1\n",
       "4           4  TO NIGHT:: THE DA VINCI CODE AND A BEAUTIFUL M...          1"
      ]
     },
     "execution_count": 4,
     "metadata": {},
     "output_type": "execute_result"
    }
   ],
   "source": [
    "df.to_csv(\"C:/Users/hp/ML A_Z/sentiment_analysis_data1.csv\")\n",
    "data = pd.read_csv(\"C:/Users/hp/ML A_Z/sentiment_analysis_data1.csv\")\n",
    "data.head(5)                         #show the first 5 rows fronm the dataset"
   ]
  },
  {
   "cell_type": "code",
   "execution_count": 5,
   "metadata": {},
   "outputs": [
    {
     "data": {
      "text/plain": [
       "{'a',\n",
       " 'about',\n",
       " 'above',\n",
       " 'after',\n",
       " 'again',\n",
       " 'against',\n",
       " 'ain',\n",
       " 'all',\n",
       " 'am',\n",
       " 'an',\n",
       " 'and',\n",
       " 'any',\n",
       " 'are',\n",
       " 'aren',\n",
       " \"aren't\",\n",
       " 'as',\n",
       " 'at',\n",
       " 'be',\n",
       " 'because',\n",
       " 'been',\n",
       " 'before',\n",
       " 'being',\n",
       " 'below',\n",
       " 'between',\n",
       " 'both',\n",
       " 'but',\n",
       " 'by',\n",
       " 'can',\n",
       " 'couldn',\n",
       " \"couldn't\",\n",
       " 'd',\n",
       " 'did',\n",
       " 'didn',\n",
       " \"didn't\",\n",
       " 'do',\n",
       " 'does',\n",
       " 'doesn',\n",
       " \"doesn't\",\n",
       " 'doing',\n",
       " 'don',\n",
       " \"don't\",\n",
       " 'down',\n",
       " 'during',\n",
       " 'each',\n",
       " 'few',\n",
       " 'for',\n",
       " 'from',\n",
       " 'further',\n",
       " 'had',\n",
       " 'hadn',\n",
       " \"hadn't\",\n",
       " 'has',\n",
       " 'hasn',\n",
       " \"hasn't\",\n",
       " 'have',\n",
       " 'haven',\n",
       " \"haven't\",\n",
       " 'having',\n",
       " 'he',\n",
       " 'her',\n",
       " 'here',\n",
       " 'hers',\n",
       " 'herself',\n",
       " 'him',\n",
       " 'himself',\n",
       " 'his',\n",
       " 'how',\n",
       " 'i',\n",
       " 'if',\n",
       " 'in',\n",
       " 'into',\n",
       " 'is',\n",
       " 'isn',\n",
       " \"isn't\",\n",
       " 'it',\n",
       " \"it's\",\n",
       " 'its',\n",
       " 'itself',\n",
       " 'just',\n",
       " 'll',\n",
       " 'm',\n",
       " 'ma',\n",
       " 'me',\n",
       " 'mightn',\n",
       " \"mightn't\",\n",
       " 'more',\n",
       " 'most',\n",
       " 'mustn',\n",
       " \"mustn't\",\n",
       " 'my',\n",
       " 'myself',\n",
       " 'needn',\n",
       " \"needn't\",\n",
       " 'no',\n",
       " 'nor',\n",
       " 'not',\n",
       " 'now',\n",
       " 'o',\n",
       " 'of',\n",
       " 'off',\n",
       " 'on',\n",
       " 'once',\n",
       " 'only',\n",
       " 'or',\n",
       " 'other',\n",
       " 'our',\n",
       " 'ours',\n",
       " 'ourselves',\n",
       " 'out',\n",
       " 'over',\n",
       " 'own',\n",
       " 're',\n",
       " 's',\n",
       " 'same',\n",
       " 'shan',\n",
       " \"shan't\",\n",
       " 'she',\n",
       " \"she's\",\n",
       " 'should',\n",
       " \"should've\",\n",
       " 'shouldn',\n",
       " \"shouldn't\",\n",
       " 'so',\n",
       " 'some',\n",
       " 'such',\n",
       " 't',\n",
       " 'than',\n",
       " 'that',\n",
       " \"that'll\",\n",
       " 'the',\n",
       " 'their',\n",
       " 'theirs',\n",
       " 'them',\n",
       " 'themselves',\n",
       " 'then',\n",
       " 'there',\n",
       " 'these',\n",
       " 'they',\n",
       " 'this',\n",
       " 'those',\n",
       " 'through',\n",
       " 'to',\n",
       " 'too',\n",
       " 'under',\n",
       " 'until',\n",
       " 'up',\n",
       " 've',\n",
       " 'very',\n",
       " 'was',\n",
       " 'wasn',\n",
       " \"wasn't\",\n",
       " 'we',\n",
       " 'were',\n",
       " 'weren',\n",
       " \"weren't\",\n",
       " 'what',\n",
       " 'when',\n",
       " 'where',\n",
       " 'which',\n",
       " 'while',\n",
       " 'who',\n",
       " 'whom',\n",
       " 'why',\n",
       " 'will',\n",
       " 'with',\n",
       " 'won',\n",
       " \"won't\",\n",
       " 'wouldn',\n",
       " \"wouldn't\",\n",
       " 'y',\n",
       " 'you',\n",
       " \"you'd\",\n",
       " \"you'll\",\n",
       " \"you're\",\n",
       " \"you've\",\n",
       " 'your',\n",
       " 'yours',\n",
       " 'yourself',\n",
       " 'yourselves'}"
      ]
     },
     "execution_count": 5,
     "metadata": {},
     "output_type": "execute_result"
    }
   ],
   "source": [
    "stopset = set(stopwords.words('English'))        # they are to be omitted from a computer-generated concordance or index.\n",
    "stopset"
   ]
  },
  {
   "cell_type": "code",
   "execution_count": 7,
   "metadata": {},
   "outputs": [],
   "source": [
    "# convert to a TF_IDF features \n",
    "\n",
    "Vectorizer = TfidfVectorizer(strip_accents='ascii', stop_words = stopset)\n",
    "\n",
    "#strip_accent : remove accents and perform other character normalization during preprocessing step.\n",
    "#\"ascii\" is a method that works on characters that have direct ASCII mapping\n",
    "# stopset contain list of stopwords,all of which will be removed from resulting tokens when we apply stop_word=stopsets"
   ]
  },
  {
   "cell_type": "code",
   "execution_count": 9,
   "metadata": {},
   "outputs": [
    {
     "name": "stdout",
     "output_type": "stream",
     "text": [
      "  (0, 361)\t0.49168492519537316\n",
      "  (0, 193)\t0.49168492519537316\n",
      "  (0, 274)\t0.49168492519537316\n",
      "  (0, 104)\t0.46788807974332497\n",
      "  (0, 84)\t0.1364044816479834\n",
      "  (0, 366)\t0.1364044816479834\n",
      "  (0, 66)\t0.1364044816479834\n",
      "  (1, 361)\t0.44622501567175826\n",
      "  (1, 193)\t0.44622501567175826\n",
      "  (1, 274)\t0.44622501567175826\n",
      "  (1, 104)\t0.4246283646648982\n",
      "  (1, 84)\t0.24758575600780788\n",
      "  (1, 366)\t0.24758575600780788\n",
      "  (1, 66)\t0.24758575600780788\n",
      "  (1, 202)\t0.196072278393347\n",
      "  (2, 84)\t0.42606629831780707\n",
      "  (2, 366)\t0.42606629831780707\n",
      "  (2, 66)\t0.42606629831780707\n",
      "  (2, 202)\t0.6748351860367718\n",
      "  (3, 84)\t0.42606629831780707\n",
      "  (3, 366)\t0.42606629831780707\n",
      "  (3, 66)\t0.42606629831780707\n",
      "  (3, 202)\t0.6748351860367718\n",
      "  (4, 84)\t0.16014224005570807\n",
      "  (4, 366)\t0.16014224005570807\n",
      "  :\t:\n",
      "  (415, 74)\t0.31738142677828923\n",
      "  (415, 145)\t0.31738142677828923\n",
      "  (415, 148)\t0.31738142677828923\n",
      "  (415, 188)\t0.31738142677828923\n",
      "  (415, 79)\t0.31738142677828923\n",
      "  (415, 176)\t0.31738142677828923\n",
      "  (416, 280)\t0.6296621456750178\n",
      "  (416, 56)\t0.2771514373386629\n",
      "  (416, 224)\t0.2771514373386629\n",
      "  (416, 88)\t0.6707456625772239\n",
      "  (417, 225)\t0.27838912266514215\n",
      "  (417, 239)\t0.3969826745375997\n",
      "  (417, 339)\t0.4129250478023798\n",
      "  (417, 56)\t0.34124043403229515\n",
      "  (417, 224)\t0.34124043403229515\n",
      "  (417, 85)\t0.44709236202113084\n",
      "  (417, 324)\t0.40201431514484215\n",
      "  (418, 56)\t0.2633574981592266\n",
      "  (418, 224)\t0.2633574981592266\n",
      "  (418, 85)\t0.6901006690012635\n",
      "  (418, 324)\t0.6205213315999978\n",
      "  (419, 280)\t0.6296621456750178\n",
      "  (419, 56)\t0.2771514373386629\n",
      "  (419, 224)\t0.2771514373386629\n",
      "  (419, 88)\t0.6707456625772239\n"
     ]
    }
   ],
   "source": [
    "Y = data['sentiment']  # we need to predict wheather it is positive comment or negetive comment so we talke sentiment as dependent variable\n",
    "X = Vectorizer.fit_transform(data['comments']) # convert data comment from the text  to features\n",
    "print(X)"
   ]
  },
  {
   "cell_type": "code",
   "execution_count": 10,
   "metadata": {},
   "outputs": [
    {
     "name": "stdout",
     "output_type": "stream",
     "text": [
      "(420, 391)\n",
      "(420,)\n"
     ]
    }
   ],
   "source": [
    "# we can see  that we have 220 observation and  336 words\n",
    "\n",
    "print(X.shape)\n",
    "print(Y.shape)"
   ]
  },
  {
   "cell_type": "code",
   "execution_count": 11,
   "metadata": {},
   "outputs": [],
   "source": [
    "# in this our main data is split into train and test\n",
    "# the attribute test_size=0.2 splits the data into 80% and 20% ratio. train data=80% and test data=20%\n",
    "\n",
    "X_train,X_test,Y_train,Y_test = train_test_split(X,Y,test_size = 0.2)"
   ]
  },
  {
   "cell_type": "markdown",
   "metadata": {},
   "source": [
    "# *NAIVE BAYES ALGORITHM*"
   ]
  },
  {
   "cell_type": "code",
   "execution_count": 49,
   "metadata": {},
   "outputs": [
    {
     "data": {
      "text/plain": [
       "MultinomialNB(alpha=1.0, class_prior=None, fit_prior=True)"
      ]
     },
     "execution_count": 49,
     "metadata": {},
     "output_type": "execute_result"
    }
   ],
   "source": [
    "from sklearn import naive_bayes       #importing naive bayes from scikit learn\n",
    "clf = naive_bayes.MultinomialNB()     # selecting the NAIVE BAYES classifier\n",
    "clf.fit(X_train,Y_train)              #fitting the classifier with train and test data"
   ]
  },
  {
   "cell_type": "code",
   "execution_count": 67,
   "metadata": {},
   "outputs": [
    {
     "name": "stdout",
     "output_type": "stream",
     "text": [
      "Enter a Comment: bgj\n",
      "GE\n",
      "[0]\n",
      "NEGETIVE comment...\n"
     ]
    }
   ],
   "source": [
    "inp_comment = input(\"Enter a Comment: \")\n",
    "\n",
    "#translator\n",
    "from googletrans import Translator\n",
    "text = inp_comment\n",
    "\n",
    "destination_languages = {\n",
    "    'english': 'en'\n",
    "}\n",
    "translator = Translator()\n",
    "\n",
    "for key,value in destination_languages.items():\n",
    "    print(translator.translate(text, dest = value).text)\n",
    "    op = translator.translate(text, dest = value).text\n",
    "Movie_reviews_array = np.array([op])\n",
    "Movie_review_vector = Vectorizer.transform(Movie_reviews_array)\n",
    "prediction = clf.predict(Movie_review_vector)\n",
    "print(prediction)\n",
    "\n",
    "if(prediction == 1):\n",
    "    print(\"POSETIVE comment...\")\n",
    "else:\n",
    "    print(\"NEGETIVE comment...\")"
   ]
  },
  {
   "cell_type": "code",
   "execution_count": 55,
   "metadata": {},
   "outputs": [
    {
     "name": "stdout",
     "output_type": "stream",
     "text": [
      "Accuracy:  0.9880952380952381\n"
     ]
    }
   ],
   "source": [
    "pred_for_acuracy = clf.predict(X_test)                                #prediction of x_test to get accuracy\n",
    "print(\"Accuracy: \",metrics.accuracy_score(Y_test, pred_for_acuracy))  #printing the model accuracy"
   ]
  },
  {
   "cell_type": "code",
   "execution_count": 56,
   "metadata": {},
   "outputs": [
    {
     "name": "stdout",
     "output_type": "stream",
     "text": [
      "[[37  0]\n",
      " [ 1 46]]\n"
     ]
    }
   ],
   "source": [
    "from sklearn import metrics                             #importing metrics from sklearn\n",
    "cm = metrics.confusion_matrix(Y_test, pred_for_acuracy) #we get confusion matrix as a derived class from the metrics class\n",
    "print(cm)                                               #printing the confusion matrix"
   ]
  },
  {
   "cell_type": "code",
   "execution_count": 57,
   "metadata": {},
   "outputs": [
    {
     "data": {
      "text/plain": [
       "Text(33.0, 0.5, 'Actual label')"
      ]
     },
     "execution_count": 57,
     "metadata": {},
     "output_type": "execute_result"
    },
    {
     "data": {
      "image/png": "[encoded data removed]",
      "text/plain": [
       "<Figure size 432x288 with 2 Axes>"
      ]
     },
     "metadata": {
      "needs_background": "light"
     },
     "output_type": "display_data"
    }
   ],
   "source": [
    "import seaborn as sns                      #importing the seaborn package as sns\n",
    "import matplotlib.pyplot as plt            #importing the matplotlib package as plt\n",
    "sns.heatmap(pd.DataFrame(cm),annot = True) #to get the heatmap,we get heatmap derived class from sns class\n",
    "plt.title(\"HEAT MAP\")                      #getting the title of the heat map\n",
    "plt.xlabel(\"Prediction label\")             #getting the x label of heat map\n",
    "plt.ylabel(\"Actual label\")                 #getting the y label of heat map"
   ]
  },
  {
   "cell_type": "markdown",
   "metadata": {},
   "source": [
    "# *DECISION TREE*"
   ]
  },
  {
   "cell_type": "code",
   "execution_count": 59,
   "metadata": {},
   "outputs": [
    {
     "data": {
      "text/plain": [
       "DecisionTreeClassifier(class_weight=None, criterion='gini', max_depth=None,\n",
       "            max_features=None, max_leaf_nodes=None,\n",
       "            min_impurity_decrease=0.0, min_impurity_split=None,\n",
       "            min_samples_leaf=1, min_samples_split=2,\n",
       "            min_weight_fraction_leaf=0.0, presort=False, random_state=None,\n",
       "            splitter='best')"
      ]
     },
     "execution_count": 59,
     "metadata": {},
     "output_type": "execute_result"
    }
   ],
   "source": [
    "from sklearn import tree\n",
    "from sklearn.tree import DecisionTreeClassifier\n",
    "clf = tree.DecisionTreeClassifier()\n",
    "clf.fit(X_train,Y_train)"
   ]
  },
  {
   "cell_type": "code",
   "execution_count": 61,
   "metadata": {},
   "outputs": [],
   "source": [
    "from sklearn.externals.six import StringIO\n",
    "from IPython.display import Image\n",
    "import pydotplus"
   ]
  },
  {
   "cell_type": "code",
   "execution_count": 62,
   "metadata": {},
   "outputs": [],
   "source": [
    "dot_data = StringIO()\n",
    "tree.export_graphviz(clf,out_file = dot_data)\n",
    "\n",
    "graph = pydotplus.graph_from_dot_data(dot_data.getvalue())\n",
    "graph.write_png('sentiment_tree.png')\n",
    "Image = (graph.create_png())"
   ]
  },
  {
   "cell_type": "code",
   "execution_count": 63,
   "metadata": {},
   "outputs": [
    {
     "name": "stdout",
     "output_type": "stream",
     "text": [
      "Enter a Comment: yp\n",
      "yp\n",
      "[0]\n",
      "NEGETIVE comment...\n"
     ]
    }
   ],
   "source": [
    "inp_comment = input(\"Enter a Comment: \")\n",
    "\n",
    "#translates any language to english\n",
    "from googletrans import Translator\n",
    "text = inp_comment\n",
    "\n",
    "destination_languages = {\n",
    "    'english': 'en'\n",
    "}\n",
    "translator = Translator()\n",
    "\n",
    "for key,value in destination_languages.items():\n",
    "    print(translator.translate(text, dest = value).text)\n",
    "    op = translator.translate(text, dest = value).text\n",
    "Movie_reviews_array = np.array([op])\n",
    "Movie_review_vector = Vectorizer.transform(Movie_reviews_array)\n",
    "prediction = clf.predict(Movie_review_vector)\n",
    "print(prediction)\n",
    "\n",
    "if(prediction == 1):\n",
    "    print(\"POSETIVE comment...\")\n",
    "else:\n",
    "    print(\"NEGETIVE comment...\")"
   ]
  },
  {
   "cell_type": "code",
   "execution_count": 64,
   "metadata": {},
   "outputs": [
    {
     "name": "stdout",
     "output_type": "stream",
     "text": [
      "Accuracy:  0.9642857142857143\n"
     ]
    }
   ],
   "source": [
    "pred_for_acuracy = clf.predict(X_test)                                #prediction of x_test to get accuracy\n",
    "print(\"Accuracy: \",metrics.accuracy_score(Y_test, pred_for_acuracy))  #printing the model accuracy"
   ]
  },
  {
   "cell_type": "code",
   "execution_count": 65,
   "metadata": {},
   "outputs": [
    {
     "name": "stdout",
     "output_type": "stream",
     "text": [
      "[[37  0]\n",
      " [ 3 44]]\n"
     ]
    }
   ],
   "source": [
    "from sklearn import metrics                             #importing metrics from sklearn\n",
    "cm = metrics.confusion_matrix(Y_test, pred_for_acuracy) #we get confusion matrix as a derived class from the metrics class\n",
    "print(cm)"
   ]
  },
  {
   "cell_type": "code",
   "execution_count": 66,
   "metadata": {},
   "outputs": [
    {
     "data": {
      "text/plain": [
       "Text(33.0, 0.5, 'Actual label')"
      ]
     },
     "execution_count": 66,
     "metadata": {},
     "output_type": "execute_result"
    },
    {
     "data": {
      "image/png": "[encoded data removed]",
      "text/plain": [
       "<Figure size 432x288 with 2 Axes>"
      ]
     },
     "metadata": {
      "needs_background": "light"
     },
     "output_type": "display_data"
    }
   ],
   "source": [
    "import seaborn as sns                      #importing the seaborn package as sns\n",
    "import matplotlib.pyplot as plt            #importing the matplotlib package as plt\n",
    "sns.heatmap(pd.DataFrame(cm),annot = True) #to get the heatmap,we get heatmap derived class from sns class\n",
    "plt.title(\"HEAT MAP\")                      #getting the title of the heat map\n",
    "plt.xlabel(\"Prediction label\")             #getting the x label of heat map\n",
    "plt.ylabel(\"Actual label\")                 #getting the y label of heat map"
   ]
  },
  {
   "cell_type": "markdown",
   "metadata": {},
   "source": [
    "# *LOGISTIC REGRESSION*"
   ]
  },
  {
   "cell_type": "code",
   "execution_count": 68,
   "metadata": {},
   "outputs": [
    {
     "name": "stderr",
     "output_type": "stream",
     "text": [
      "C:\\ProgramData\\sou\\lib\\site-packages\\sklearn\\linear_model\\logistic.py:433: FutureWarning: Default solver will be changed to 'lbfgs' in 0.22. Specify a solver to silence this warning.\n",
      "  FutureWarning)\n"
     ]
    },
    {
     "data": {
      "text/plain": [
       "LogisticRegression(C=1.0, class_weight=None, dual=False, fit_intercept=True,\n",
       "          intercept_scaling=1, max_iter=100, multi_class='warn',\n",
       "          n_jobs=None, penalty='l2', random_state=None, solver='warn',\n",
       "          tol=0.0001, verbose=0, warm_start=False)"
      ]
     },
     "execution_count": 68,
     "metadata": {},
     "output_type": "execute_result"
    }
   ],
   "source": [
    "from sklearn.linear_model import LogisticRegression\n",
    "clf = LogisticRegression()\n",
    "clf.fit(X_train,Y_train)"
   ]
  },
  {
   "cell_type": "code",
   "execution_count": 73,
   "metadata": {},
   "outputs": [
    {
     "name": "stdout",
     "output_type": "stream",
     "text": [
      "Enter a Comment: f\n",
      "f\n"
     ]
    }
   ],
   "source": [
    "inp_comment = input(\"Enter a Comment: \")\n",
    "\n",
    "# language Translator\n",
    "\n",
    "from googletrans import Translator\n",
    "text = inp_comment\n",
    "\n",
    "destination_languages = {\n",
    "    'english': 'en'\n",
    "}\n",
    "translator = Translator()\n",
    "\n",
    "for key,value in destination_languages.items():\n",
    "    print(translator.translate(text, dest = value).text)\n",
    "    op = translator.translate(text, dest = value).text\n"
   ]
  },
  {
   "cell_type": "code",
   "execution_count": 75,
   "metadata": {},
   "outputs": [
    {
     "name": "stdout",
     "output_type": "stream",
     "text": [
      "[0]\n",
      "NEGETIVE comment...\n"
     ]
    }
   ],
   "source": [
    "#Prediction of the sentiment of the comment\n",
    "\n",
    "Movie_reviews_array = np.array([op])                               #converting the i/p string into array\n",
    "Movie_review_vector = Vectorizer.transform(Movie_reviews_array)    #vectorising the array\n",
    "prediction = clf.predict(Movie_review_vector)                      #prediction\n",
    "print(prediction)\n",
    "\n",
    "if(prediction == 1):\n",
    "    print(\"POSETIVE comment...\")\n",
    "else:\n",
    "    print(\"NEGETIVE comment...\")"
   ]
  },
  {
   "cell_type": "code",
   "execution_count": 76,
   "metadata": {},
   "outputs": [
    {
     "name": "stdout",
     "output_type": "stream",
     "text": [
      "Accuracy:  0.9642857142857143\n"
     ]
    }
   ],
   "source": [
    "pred_for_acuracy = clf.predict(X_test)                                #prediction of x_test to get accuracy\n",
    "print(\"Accuracy: \",metrics.accuracy_score(Y_test, pred_for_acuracy))  #printing the model accuracy"
   ]
  },
  {
   "cell_type": "code",
   "execution_count": 77,
   "metadata": {},
   "outputs": [
    {
     "name": "stdout",
     "output_type": "stream",
     "text": [
      "[[37  0]\n",
      " [ 3 44]]\n"
     ]
    }
   ],
   "source": [
    "from sklearn import metrics                             #importing metrics from sklearn\n",
    "cm = metrics.confusion_matrix(Y_test, pred_for_acuracy) #we get confusion matrix as a derived class from the metrics class\n",
    "print(cm)"
   ]
  },
  {
   "cell_type": "code",
   "execution_count": 78,
   "metadata": {},
   "outputs": [
    {
     "data": {
      "text/plain": [
       "Text(33.0, 0.5, 'Actual label')"
      ]
     },
     "execution_count": 78,
     "metadata": {},
     "output_type": "execute_result"
    },
    {
     "data": {
      "image/png": "[encoded data removed]",
      "text/plain": [
       "<Figure size 432x288 with 2 Axes>"
      ]
     },
     "metadata": {
      "needs_background": "light"
     },
     "output_type": "display_data"
    }
   ],
   "source": [
    "import seaborn as sns                      #importing the seaborn package as sns\n",
    "import matplotlib.pyplot as plt            #importing the matplotlib package as plt\n",
    "sns.heatmap(pd.DataFrame(cm),annot = True) #to get the heatmap,we get heatmap derived class from sns class\n",
    "plt.title(\"HEAT MAP\")                      #getting the title of the heat map\n",
    "plt.xlabel(\"Prediction label\")             #getting the x label of heat map\n",
    "plt.ylabel(\"Actual label\")                 #getting the y label of heat map"
   ]
  },
  {
   "cell_type": "code",
   "execution_count": null,
   "metadata": {},
   "outputs": [],
   "source": []
  }
 ],
 "metadata": {
  "kernelspec": {
   "display_name": "Python 3",
   "language": "python",
   "name": "python3"
  },
  "language_info": {
   "codemirror_mode": {
    "name": "ipython",
    "version": 3
   },
   "file_extension": ".py",
   "mimetype": "text/x-python",
   "name": "python",
   "nbconvert_exporter": "python",
   "pygments_lexer": "ipython3",
   "version": "3.7.3"
  }
 },
 "nbformat": 4,
 "nbformat_minor": 2
}
